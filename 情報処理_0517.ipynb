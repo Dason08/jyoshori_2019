{
 "cells": [
  {
   "cell_type": "markdown",
   "metadata": {},
   "source": [
    "# 情報処理 5/17"
   ]
  },
  {
   "cell_type": "markdown",
   "metadata": {},
   "source": [
    "### 擬似コード"
   ]
  },
  {
   "cell_type": "markdown",
   "metadata": {},
   "source": [
    "店に入る \n",
    "\n",
    "所持金が1万円\n",
    "\n",
    "do 商品を買う:\n",
    "\n",
    "    if 所持金が0円:\n",
    "\n",
    "        お店を出る\n",
    "\n",
    "    else　if 所持金が1円以上:\n",
    "\n",
    "        買い物を続ける"
   ]
  },
  {
   "cell_type": "markdown",
   "metadata": {},
   "source": [
    "### 1. 変数 a, bに数字, 四則演算, ただし割り算のとき0判定（０では割れない等で終了）"
   ]
  },
  {
   "cell_type": "code",
   "execution_count": 6,
   "metadata": {},
   "outputs": [
    {
     "name": "stdout",
     "output_type": "stream",
     "text": [
      "足し算: 10\n",
      "引き算: 10\n",
      "掛け算: 0\n",
      "ValueError: b=0\n"
     ]
    }
   ],
   "source": [
    "a = 10\n",
    "b = 0\n",
    "\n",
    "print(\"足し算:\",a+b)\n",
    "print(\"引き算:\",a-b)\n",
    "print(\"掛け算:\", a*b)\n",
    "\n",
    "if b==0:\n",
    "    print(\"ValueError: b=0\")\n",
    "else:\n",
    "    print(\"割り算:\", a/b)"
   ]
  },
  {
   "cell_type": "markdown",
   "metadata": {},
   "source": [
    "### 2. 1から100までの足し算（繰り返しはfor while いずれでも）"
   ]
  },
  {
   "cell_type": "code",
   "execution_count": 10,
   "metadata": {},
   "outputs": [
    {
     "name": "stdout",
     "output_type": "stream",
     "text": [
      "5050\n"
     ]
    }
   ],
   "source": [
    "sum=0\n",
    "for i in range(101):\n",
    "    sum += i\n",
    "    \n",
    "print(sum)"
   ]
  },
  {
   "cell_type": "markdown",
   "metadata": {},
   "source": [
    "### 3. 1から100までの３の倍数, ４のの倍数の個数を求める."
   ]
  },
  {
   "cell_type": "code",
   "execution_count": 16,
   "metadata": {},
   "outputs": [
    {
     "name": "stdout",
     "output_type": "stream",
     "text": [
      "3の倍数: 33 4の倍数: 25\n"
     ]
    }
   ],
   "source": [
    "count3 = 0\n",
    "count4 = 0\n",
    "\n",
    "for i in range(1,101):\n",
    "    if i%3 == 0:\n",
    "        count3 += 1\n",
    "    if i%4 == 0:\n",
    "        count4 += 1\n",
    "print(\"3の倍数:\", count3, \"4の倍数:\", count4)"
   ]
  },
  {
   "cell_type": "markdown",
   "metadata": {},
   "source": [
    "### 4. 1から100までの１２の倍数を表示."
   ]
  },
  {
   "cell_type": "code",
   "execution_count": 17,
   "metadata": {},
   "outputs": [
    {
     "name": "stdout",
     "output_type": "stream",
     "text": [
      "12\n",
      "24\n",
      "36\n",
      "48\n",
      "60\n",
      "72\n",
      "84\n",
      "96\n"
     ]
    }
   ],
   "source": [
    "for i in range(1,100):\n",
    "    if i%12==0:\n",
    "        print(i)"
   ]
  }
 ],
 "metadata": {
  "kernelspec": {
   "display_name": "Python 3",
   "language": "python",
   "name": "python3"
  },
  "language_info": {
   "codemirror_mode": {
    "name": "ipython",
    "version": 3
   },
   "file_extension": ".py",
   "mimetype": "text/x-python",
   "name": "python",
   "nbconvert_exporter": "python",
   "pygments_lexer": "ipython3",
   "version": "3.6.5"
  }
 },
 "nbformat": 4,
 "nbformat_minor": 2
}
